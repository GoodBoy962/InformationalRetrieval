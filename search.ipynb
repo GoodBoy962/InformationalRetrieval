{
 "cells": [
  {
   "cell_type": "code",
   "execution_count": 1,
   "metadata": {
    "collapsed": true
   },
   "outputs": [],
   "source": [
    "import json"
   ]
  },
  {
   "cell_type": "code",
   "execution_count": 2,
   "metadata": {
    "collapsed": true
   },
   "outputs": [],
   "source": [
    "porter_data = json.load(open('terms_porter.json'))\n",
    "mystem_data = json.load(open('terms_mystem.json'))"
   ]
  },
  {
   "cell_type": "markdown",
   "metadata": {},
   "source": [
    "#### Первый параметр - список термом по портеру или mystem.\n",
    "#### Второй - набор поискивых термов"
   ]
  },
  {
   "cell_type": "code",
   "execution_count": 11,
   "metadata": {},
   "outputs": [],
   "source": [
    "def search(data, *terms):\n",
    "    \n",
    "    res = set(data[terms[0]]['docs']);\n",
    "    \n",
    "    for term in terms:\n",
    "        if not term.startswith('-'):\n",
    "            res &= set(data[term]['docs'])\n",
    "        else:\n",
    "            s = set(data[term[1:]]['docs'])\n",
    "            for el in s:\n",
    "                res.discard(el)\n",
    "        \n",
    "    return res"
   ]
  },
  {
   "cell_type": "code",
   "execution_count": 12,
   "metadata": {},
   "outputs": [
    {
     "data": {
      "text/plain": [
       "{'http://www.mathnet.ru/rus/uzku1349'}"
      ]
     },
     "execution_count": 12,
     "metadata": {},
     "output_type": "execute_result"
    }
   ],
   "source": [
    "search(porter_data, 'в', 'вид', 'граничн')"
   ]
  },
  {
   "cell_type": "code",
   "execution_count": 13,
   "metadata": {},
   "outputs": [
    {
     "data": {
      "text/plain": [
       "{'http://www.mathnet.ru/rus/uzku1348',\n",
       " 'http://www.mathnet.ru/rus/uzku1349',\n",
       " 'http://www.mathnet.ru/rus/uzku1354'}"
      ]
     },
     "execution_count": 13,
     "metadata": {},
     "output_type": "execute_result"
    }
   ],
   "source": [
    "search(mystem_data, 'в', 'вид')"
   ]
  },
  {
   "cell_type": "code",
   "execution_count": 14,
   "metadata": {},
   "outputs": [
    {
     "data": {
      "text/plain": [
       "{'http://www.mathnet.ru/rus/uzku1350',\n",
       " 'http://www.mathnet.ru/rus/uzku1352',\n",
       " 'http://www.mathnet.ru/rus/uzku1353',\n",
       " 'http://www.mathnet.ru/rus/uzku1355',\n",
       " 'http://www.mathnet.ru/rus/uzku1356',\n",
       " 'http://www.mathnet.ru/rus/uzku1357',\n",
       " 'http://www.mathnet.ru/rus/uzku1358'}"
      ]
     },
     "execution_count": 14,
     "metadata": {},
     "output_type": "execute_result"
    }
   ],
   "source": [
    "search(mystem_data, 'в', '-вид')"
   ]
  }
 ],
 "metadata": {
  "kernelspec": {
   "display_name": "Python 3",
   "language": "python",
   "name": "python3"
  },
  "language_info": {
   "codemirror_mode": {
    "name": "ipython",
    "version": 3
   },
   "file_extension": ".py",
   "mimetype": "text/x-python",
   "name": "python",
   "nbconvert_exporter": "python",
   "pygments_lexer": "ipython3",
   "version": "3.6.3"
  }
 },
 "nbformat": 4,
 "nbformat_minor": 2
}
