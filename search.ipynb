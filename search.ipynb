{
 "cells": [
  {
   "cell_type": "code",
   "execution_count": 1,
   "metadata": {
    "collapsed": true
   },
   "outputs": [],
   "source": [
    "import json\n",
    "import math"
   ]
  },
  {
   "cell_type": "code",
   "execution_count": 2,
   "metadata": {
    "collapsed": true
   },
   "outputs": [],
   "source": [
    "porter_data = json.load(open('terms/porter.json'))\n",
    "mystem_data = json.load(open('terms/mystem.json'))\n",
    "\n",
    "porter_data_annotation = json.load(open('terms/porter_annotation.json'))\n",
    "mystem_data_annotation = json.load(open('terms/mystem_annotation.json'))\n",
    "\n",
    "porter_data_title = json.load(open('terms/porter_title.json'))\n",
    "mystem_data_title = json.load(open('terms/mystem.json'))\n",
    "\n",
    "articles_data = json.load(open('articles_porter_mystem.json'))['issue']['articles']"
   ]
  },
  {
   "cell_type": "markdown",
   "metadata": {},
   "source": [
    "## Поиск"
   ]
  },
  {
   "cell_type": "markdown",
   "metadata": {},
   "source": [
    "#### Первый параметр - список термом по портеру или mystem.\n",
    "#### Второй - поисковый запрос из термов"
   ]
  },
  {
   "cell_type": "code",
   "execution_count": 3,
   "metadata": {
    "collapsed": true
   },
   "outputs": [],
   "source": [
    "def search(data, query):\n",
    "    \n",
    "    terms = query.split(' ')\n",
    "    \n",
    "    negative_terms = list(filter(lambda t : t.startswith('-'), terms))\n",
    "    positive_terms = sort_terms_by_amount(data, list(filter(lambda t : not t.startswith('-'), terms)))\n",
    "    \n",
    "    if (len(positive_terms) > 0):\n",
    "        if (positive_terms[0] in data):\n",
    "            positive_docs = set(data[positive_terms[0]]['docs'])\n",
    "            positive_terms = sort_terms_by_amount(data, positive_terms)\n",
    "\n",
    "            for term in positive_terms:\n",
    "                positive_docs &= set(data[term]['docs'])\n",
    "\n",
    "            for term in negative_terms:\n",
    "                for doc in set(data[term[1:]]['docs']):\n",
    "                    positive_docs.discard(doc)\n",
    "\n",
    "            return positive_docs\n",
    "    return []"
   ]
  },
  {
   "cell_type": "markdown",
   "metadata": {},
   "source": [
    "#### Сортировка термов согласно количеству документов, в которых они встречаются"
   ]
  },
  {
   "cell_type": "code",
   "execution_count": 4,
   "metadata": {
    "collapsed": true
   },
   "outputs": [],
   "source": [
    "def sort_terms_by_amount(data, terms):\n",
    "    terms_amounts = []\n",
    "    for term in terms:\n",
    "        if (term in data):\n",
    "            terms_amounts.append(data[term]['amount'])\n",
    "        \n",
    "    terms_with_amounts_zipped = list(zip(terms_amounts, terms))\n",
    "    terms_with_amounts_zipped.sort()\n",
    "    \n",
    "    terms = [term for amount, term in terms_with_amounts_zipped]\n",
    "    return terms"
   ]
  },
  {
   "cell_type": "markdown",
   "metadata": {},
   "source": [
    "## Скоринг"
   ]
  },
  {
   "cell_type": "markdown",
   "metadata": {},
   "source": [
    "### TF"
   ]
  },
  {
   "cell_type": "code",
   "execution_count": 5,
   "metadata": {
    "collapsed": true
   },
   "outputs": [],
   "source": [
    "def tf_annotation_and_title(term, doc, data_type):\n",
    "    tf = 0\n",
    "    \n",
    "    for article in articles_data:\n",
    "        if article['link'] == doc:\n",
    "            amount = 0\n",
    "            \n",
    "            annotation = article['annotation'][data_type].split(' ')\n",
    "            for word in annotation:\n",
    "                if word == term:\n",
    "                    amount += 1\n",
    "            \n",
    "            title = article['title'][data_type].split(' ')\n",
    "            for word in title:\n",
    "                if word == term:\n",
    "                    amount += 1\n",
    "                    \n",
    "            tf = amount/(len(annotation) + len(title))\n",
    "            \n",
    "    return tf"
   ]
  },
  {
   "cell_type": "code",
   "execution_count": 6,
   "metadata": {
    "collapsed": true
   },
   "outputs": [],
   "source": [
    "def tf_annotation(term, doc, data_type):\n",
    "    tf = 0\n",
    "    \n",
    "    for article in articles_data:\n",
    "        if article['link'] == doc:\n",
    "            return tf_query(term, article['annotation'][data_type])"
   ]
  },
  {
   "cell_type": "code",
   "execution_count": 7,
   "metadata": {
    "collapsed": true
   },
   "outputs": [],
   "source": [
    "def tf_title(term, doc, data_type):\n",
    "    tf = 0\n",
    "    \n",
    "    for article in articles_data:\n",
    "        if article['link'] == doc:    \n",
    "            return tf_query(term, article['title'][data_type])"
   ]
  },
  {
   "cell_type": "code",
   "execution_count": 8,
   "metadata": {
    "collapsed": true
   },
   "outputs": [],
   "source": [
    "def tf_query(term, query):\n",
    "    amount = 0\n",
    "    for el in query.split(' '):\n",
    "        if (el == term):\n",
    "            amount += 1\n",
    "            \n",
    "    return amount / len(query.split(' '))"
   ]
  },
  {
   "cell_type": "markdown",
   "metadata": {},
   "source": [
    "### IDF"
   ]
  },
  {
   "cell_type": "code",
   "execution_count": 9,
   "metadata": {
    "collapsed": true
   },
   "outputs": [],
   "source": [
    "def idf(data, term):\n",
    "    if term in data:\n",
    "        return math.log2(10 / data[term]['amount'])\n",
    "    else:\n",
    "        return 0"
   ]
  },
  {
   "cell_type": "markdown",
   "metadata": {},
   "source": [
    "### Score"
   ]
  },
  {
   "cell_type": "code",
   "execution_count": 10,
   "metadata": {
    "collapsed": true
   },
   "outputs": [],
   "source": [
    "def score(data, data_type, query, articles):\n",
    "    articles_score = []\n",
    "    for article in articles:\n",
    "        score = 0\n",
    "        for term in list(filter(lambda t : not t.startswith('-'), query.split(' '))):\n",
    "            tf = tf_annotation_and_title(term, article, data_type)\n",
    "            score += tf * idf(data, term)\n",
    "        articles_score.append({\n",
    "                \"article\": article,\n",
    "                \"score\": score\n",
    "        })\n",
    "\n",
    "    res = {\n",
    "        \"query\": query,\n",
    "        \"articles_score\": articles_score\n",
    "    }\n",
    "    return res"
   ]
  },
  {
   "cell_type": "code",
   "execution_count": 11,
   "metadata": {
    "collapsed": true
   },
   "outputs": [],
   "source": [
    "queries = ['на задач', 'уравнен точек', 'для два']"
   ]
  },
  {
   "cell_type": "markdown",
   "metadata": {},
   "source": [
    "#### Портер по всему документу"
   ]
  },
  {
   "cell_type": "code",
   "execution_count": 12,
   "metadata": {
    "collapsed": true
   },
   "outputs": [],
   "source": [
    "res = []\n",
    "for query in queries:\n",
    "    articles = search(porter_data, query)\n",
    "\n",
    "    res.append(score(porter_data, 'porter', query, articles))\n",
    "        \n",
    "with open('search/porter_score.json', 'w') as f:\n",
    "    json.dump(res, f, ensure_ascii=False, indent=4)"
   ]
  },
  {
   "cell_type": "markdown",
   "metadata": {},
   "source": [
    "#### mystem по всему документу"
   ]
  },
  {
   "cell_type": "code",
   "execution_count": 13,
   "metadata": {
    "collapsed": true
   },
   "outputs": [],
   "source": [
    "# query = 'для два'\n",
    "res = []\n",
    "for query in queries:\n",
    "    articles = search(mystem_data, query)\n",
    "\n",
    "    res.append(score(mystem_data, 'mystem', query, articles))\n",
    "    \n",
    "with open('search/mystem_score.json', 'w') as f:\n",
    "    json.dump(res, f, ensure_ascii=False, indent=4)"
   ]
  },
  {
   "cell_type": "markdown",
   "metadata": {},
   "source": [
    "### Score2"
   ]
  },
  {
   "cell_type": "code",
   "execution_count": 14,
   "metadata": {
    "collapsed": true
   },
   "outputs": [],
   "source": [
    "def score2(data_title, data_annotation, data_type, query, articles):\n",
    "    articles_score = []\n",
    "    for article in articles:\n",
    "        score = 0\n",
    "        \n",
    "        for term in list(filter(lambda t : not t.startswith('-'), query.split(' '))):\n",
    "            tf = tf_annotation(term, article, data_type)\n",
    "            score += 0.4 * tf * idf(data_annotation, term)\n",
    "            \n",
    "            tf = tf_title(term, article, data_type)\n",
    "            score += 0.6 * tf * idf(data_title, term)\n",
    "            \n",
    "        articles_score.append({\n",
    "                \"article\": article,\n",
    "                \"score\": score\n",
    "        })\n",
    "\n",
    "    res = {\n",
    "        \"query\": query,\n",
    "        \"articles_score\": articles_score\n",
    "    }\n",
    "    return res"
   ]
  },
  {
   "cell_type": "code",
   "execution_count": 15,
   "metadata": {},
   "outputs": [],
   "source": [
    "res = []\n",
    "for query in queries:\n",
    "    articles = search(mystem_data, query)\n",
    "\n",
    "    res.append(score2(mystem_data_title, mystem_data_annotation, 'mystem', query, articles))\n",
    "    \n",
    "with open('search/mystem_score2.json', 'w') as f:\n",
    "    json.dump(res, f, ensure_ascii=False, indent=4)"
   ]
  },
  {
   "cell_type": "markdown",
   "metadata": {},
   "source": [
    "## SVD"
   ]
  },
  {
   "cell_type": "code",
   "execution_count": 16,
   "metadata": {},
   "outputs": [],
   "source": [
    "terms = porter_data\n",
    "data_type = 'porter'"
   ]
  },
  {
   "cell_type": "markdown",
   "metadata": {},
   "source": [
    "матрица значений"
   ]
  },
  {
   "cell_type": "code",
   "execution_count": 17,
   "metadata": {},
   "outputs": [],
   "source": [
    "tf_idf = {}\n",
    "for article in articles_data:\n",
    "    link = article['link']\n",
    "    tf_idf[link] = {}\n",
    "    for term in terms:\n",
    "        tf_idf[link][term] = tf_annotation_and_title(term, link, data_type) * idf(terms, term)\n",
    "        \n",
    "tf_idf_tr = {}\n",
    "for term in terms:\n",
    "    tf_idf_tr[term] = {}\n",
    "    for article in articles_data:\n",
    "        link = article['link']\n",
    "        tf_idf_tr[term][link] = tf_annotation_and_title(term, link, data_type) * idf(terms, term)"
   ]
  },
  {
   "cell_type": "markdown",
   "metadata": {},
   "source": [
    "cos_sim function"
   ]
  },
  {
   "cell_type": "code",
   "execution_count": 18,
   "metadata": {},
   "outputs": [],
   "source": [
    "def cos_sim(link, query):\n",
    "    query_tf_idf = {}\n",
    "    for t in query.split(' '):\n",
    "        query_tf_idf[t] = tf_query(t, query) * idf(terms, t)\n",
    "    \n",
    "    res = 0\n",
    "    for el in query_tf_idf:\n",
    "        res += query_tf_idf[el] * tf_idf[link][el]\n",
    "        \n",
    "    return res"
   ]
  },
  {
   "cell_type": "markdown",
   "metadata": {},
   "source": [
    "Примеры"
   ]
  },
  {
   "cell_type": "code",
   "execution_count": 19,
   "metadata": {},
   "outputs": [
    {
     "data": {
      "text/plain": [
       "0.07248620304434843"
      ]
     },
     "execution_count": 19,
     "metadata": {},
     "output_type": "execute_result"
    }
   ],
   "source": [
    "cos_sim('http://www.mathnet.ru/rus/uzku1348', 'работ класс')"
   ]
  },
  {
   "cell_type": "code",
   "execution_count": 20,
   "metadata": {},
   "outputs": [
    {
     "data": {
      "text/plain": [
       "0.0773753904450919"
      ]
     },
     "execution_count": 20,
     "metadata": {},
     "output_type": "execute_result"
    }
   ],
   "source": [
    "cos_sim('http://www.mathnet.ru/rus/uzku1349', 'и иском функц облада достаточн')"
   ]
  }
 ],
 "metadata": {
  "kernelspec": {
   "display_name": "Python 3",
   "language": "python",
   "name": "python3"
  },
  "language_info": {
   "codemirror_mode": {
    "name": "ipython",
    "version": 3
   },
   "file_extension": ".py",
   "mimetype": "text/x-python",
   "name": "python",
   "nbconvert_exporter": "python",
   "pygments_lexer": "ipython3",
   "version": "3.6.3"
  }
 },
 "nbformat": 4,
 "nbformat_minor": 2
}
