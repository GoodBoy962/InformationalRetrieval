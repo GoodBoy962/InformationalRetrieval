{
 "cells": [
  {
   "cell_type": "code",
   "execution_count": 1,
   "metadata": {
    "collapsed": true
   },
   "outputs": [],
   "source": [
    "import json"
   ]
  },
  {
   "cell_type": "code",
   "execution_count": 2,
   "metadata": {
    "collapsed": true
   },
   "outputs": [],
   "source": [
    "porter_data = json.load(open('terms_porter.json'))\n",
    "mystem_data = json.load(open('terms_mystem.json'))"
   ]
  },
  {
   "cell_type": "markdown",
   "metadata": {},
   "source": [
    "#### Первый параметр - список термом по портеру или mystem.\n",
    "#### Второй - поисковый запрос из термов"
   ]
  },
  {
   "cell_type": "code",
   "execution_count": 3,
   "metadata": {
    "collapsed": true
   },
   "outputs": [],
   "source": [
    "def search(data, query):\n",
    "    \n",
    "    terms = query.split(' ')\n",
    "    \n",
    "    negative_terms = list(filter(lambda t : t.startswith('-'), terms))\n",
    "    positive_terms = list(filter(lambda t : not t.startswith('-'), terms))\n",
    "    \n",
    "    positive_terms_amount = []\n",
    "    for term in positive_terms:\n",
    "        positive_terms_amount.append(data[term]['amount'])\n",
    "        \n",
    "    positive_terms_with_amount_zipped = list(zip(positive_terms_amount, positive_terms))\n",
    "    positive_terms_with_amount_zipped.sort()\n",
    "    \n",
    "    positive_terms = [term for amount, term in positive_terms_with_amount_zipped]\n",
    "        \n",
    "    positive_docs = set(data[positive_terms[0]]['docs'])\n",
    "    \n",
    "    for term in positive_terms:\n",
    "        positive_docs &= set(data[term]['docs'])\n",
    "        \n",
    "    for term in negative_terms:\n",
    "        for doc in set(data[term[1:]]['docs']):\n",
    "            positive_docs.discard(doc)\n",
    "        \n",
    "    return positive_docs"
   ]
  },
  {
   "cell_type": "code",
   "execution_count": 4,
   "metadata": {},
   "outputs": [
    {
     "data": {
      "text/plain": [
       "{'http://www.mathnet.ru/rus/uzku1349'}"
      ]
     },
     "execution_count": 4,
     "metadata": {},
     "output_type": "execute_result"
    }
   ],
   "source": [
    "search(porter_data, 'в вид граничн')"
   ]
  },
  {
   "cell_type": "code",
   "execution_count": 5,
   "metadata": {},
   "outputs": [
    {
     "data": {
      "text/plain": [
       "{'http://www.mathnet.ru/rus/uzku1348', 'http://www.mathnet.ru/rus/uzku1349'}"
      ]
     },
     "execution_count": 5,
     "metadata": {},
     "output_type": "execute_result"
    }
   ],
   "source": [
    "search(mystem_data, 'в вид')"
   ]
  },
  {
   "cell_type": "code",
   "execution_count": 6,
   "metadata": {},
   "outputs": [
    {
     "data": {
      "text/plain": [
       "{'http://www.mathnet.ru/rus/uzku1354'}"
      ]
     },
     "execution_count": 6,
     "metadata": {},
     "output_type": "execute_result"
    }
   ],
   "source": [
    "search(mystem_data, '-в вид')"
   ]
  }
 ],
 "metadata": {
  "kernelspec": {
   "display_name": "Python 3",
   "language": "python",
   "name": "python3"
  },
  "language_info": {
   "codemirror_mode": {
    "name": "ipython",
    "version": 3
   },
   "file_extension": ".py",
   "mimetype": "text/x-python",
   "name": "python",
   "nbconvert_exporter": "python",
   "pygments_lexer": "ipython3",
   "version": "3.6.3"
  }
 },
 "nbformat": 4,
 "nbformat_minor": 2
}
