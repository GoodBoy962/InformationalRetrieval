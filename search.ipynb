{
 "cells": [
  {
   "cell_type": "code",
   "execution_count": 1,
   "metadata": {
    "collapsed": true
   },
   "outputs": [],
   "source": [
    "import json\n",
    "import math"
   ]
  },
  {
   "cell_type": "code",
   "execution_count": 2,
   "metadata": {
    "collapsed": true
   },
   "outputs": [],
   "source": [
    "porter_data = json.load(open('terms_porter.json'))\n",
    "mystem_data = json.load(open('terms_mystem.json'))\n",
    "\n",
    "porter_data_annotation = json.load(open('terms_porter_annotation.json'))\n",
    "mystem_data_annotation = json.load(open('terms_mystem_annotation.json'))\n",
    "\n",
    "porter_data_title = json.load(open('terms_porter_title.json'))\n",
    "mystem_data_title = json.load(open('terms_mystem.json'))\n",
    "\n",
    "articles_data = json.load(open('articles_porter_mystem.json'))['issue']['articles']"
   ]
  },
  {
   "cell_type": "markdown",
   "metadata": {},
   "source": [
    "## Поиск"
   ]
  },
  {
   "cell_type": "markdown",
   "metadata": {},
   "source": [
    "#### Первый параметр - список термом по портеру или mystem.\n",
    "#### Второй - поисковый запрос из термов"
   ]
  },
  {
   "cell_type": "code",
   "execution_count": 3,
   "metadata": {
    "collapsed": true
   },
   "outputs": [],
   "source": [
    "def search(data, query):\n",
    "    \n",
    "    terms = query.split(' ')\n",
    "    \n",
    "    negative_terms = list(filter(lambda t : t.startswith('-'), terms))\n",
    "    positive_terms = list(filter(lambda t : not t.startswith('-'), terms))\n",
    "        \n",
    "    positive_docs = set(data[positive_terms[0]]['docs'])\n",
    "    positive_terms = sort_terms_by_amount(data, positive_terms)\n",
    "    \n",
    "    for term in positive_terms:\n",
    "        positive_docs &= set(data[term]['docs'])\n",
    "        \n",
    "    for term in negative_terms:\n",
    "        for doc in set(data[term[1:]]['docs']):\n",
    "            positive_docs.discard(doc)\n",
    "        \n",
    "    return positive_docs"
   ]
  },
  {
   "cell_type": "markdown",
   "metadata": {},
   "source": [
    "#### Сортировка термов согласно количеству документов, в которых они встречаются"
   ]
  },
  {
   "cell_type": "code",
   "execution_count": 4,
   "metadata": {
    "collapsed": true
   },
   "outputs": [],
   "source": [
    "def sort_terms_by_amount(data, terms):\n",
    "    terms_amounts = []\n",
    "    for term in terms:\n",
    "        if (term in data):\n",
    "            terms_amounts.append(data[term]['amount'])\n",
    "        \n",
    "    terms_with_amounts_zipped = list(zip(terms_amounts, terms))\n",
    "    terms_with_amounts_zipped.sort()\n",
    "    \n",
    "    terms = [term for amount, term in terms_with_amounts_zipped]\n",
    "    return terms"
   ]
  },
  {
   "cell_type": "markdown",
   "metadata": {},
   "source": [
    "## Скоринг"
   ]
  },
  {
   "cell_type": "markdown",
   "metadata": {},
   "source": [
    "### TF"
   ]
  },
  {
   "cell_type": "code",
   "execution_count": 5,
   "metadata": {
    "collapsed": true
   },
   "outputs": [],
   "source": [
    "def tf_annotation_and_title(term, doc, data_type):\n",
    "    tf = 0\n",
    "    \n",
    "    for article in articles_data:\n",
    "        if article['link'] == doc:\n",
    "            amount = 0\n",
    "            \n",
    "            annotation = article['annotation'][data_type].split(' ')\n",
    "            for word in annotation:\n",
    "                if word == term:\n",
    "                    amount += 1\n",
    "            \n",
    "            title = article['title'][data_type].split(' ')\n",
    "            for word in title:\n",
    "                if word == term:\n",
    "                    amount += 1\n",
    "                    \n",
    "            tf = amount/(len(annotation) + len(title))\n",
    "            \n",
    "    return tf"
   ]
  },
  {
   "cell_type": "code",
   "execution_count": 6,
   "metadata": {
    "collapsed": true
   },
   "outputs": [],
   "source": [
    "def tf_annotation(term, doc, data_type):\n",
    "    tf = 0\n",
    "    \n",
    "    for article in articles_data:\n",
    "        if article['link'] == doc:\n",
    "            amount = 0\n",
    "            \n",
    "            annotation = article['annotation'][data_type].split(' ') \n",
    "            for word in annotation:\n",
    "                if word == term:\n",
    "                    amount += 1\n",
    "                    \n",
    "            tf = amount / len(annotation)\n",
    "            \n",
    "    return tf"
   ]
  },
  {
   "cell_type": "code",
   "execution_count": 7,
   "metadata": {
    "collapsed": true
   },
   "outputs": [],
   "source": [
    "def tf_title(term, doc, data_type):\n",
    "    tf = 0\n",
    "    \n",
    "    for article in articles_data:\n",
    "        if article['link'] == doc:\n",
    "            amount = 0\n",
    "            \n",
    "            title = article['title'][data_type].split(' ')\n",
    "            for word in title:\n",
    "                if word == term:\n",
    "                    amount += 1\n",
    "                    \n",
    "            tf = amount / len(title)\n",
    "            \n",
    "    return tf"
   ]
  },
  {
   "cell_type": "markdown",
   "metadata": {},
   "source": [
    "### IDF"
   ]
  },
  {
   "cell_type": "code",
   "execution_count": 8,
   "metadata": {
    "collapsed": true
   },
   "outputs": [],
   "source": [
    "def idf(data, term):\n",
    "    if term in data:\n",
    "        return math.log2(10 / data[term]['amount'])\n",
    "    else:\n",
    "        return 0"
   ]
  },
  {
   "cell_type": "markdown",
   "metadata": {},
   "source": [
    "### Score"
   ]
  },
  {
   "cell_type": "code",
   "execution_count": 9,
   "metadata": {
    "collapsed": true
   },
   "outputs": [],
   "source": [
    "def score(data, data_type, query, articles):\n",
    "    articles_score = []\n",
    "    for article in articles:\n",
    "        score = 0\n",
    "        for term in list(filter(lambda t : not t.startswith('-'), query.split(' '))):\n",
    "            tf = tf_annotation_and_title(term, article, data_type)\n",
    "            score += tf * idf(data, term)\n",
    "        articles_score.append({\n",
    "                \"article\": article,\n",
    "                \"score\": score\n",
    "        })\n",
    "\n",
    "    res = {\n",
    "        \"query\": query,\n",
    "        \"articles_score\": articles_score\n",
    "    }\n",
    "    return res"
   ]
  },
  {
   "cell_type": "markdown",
   "metadata": {},
   "source": [
    "#### Портер по всему документу"
   ]
  },
  {
   "cell_type": "code",
   "execution_count": 10,
   "metadata": {},
   "outputs": [
    {
     "name": "stdout",
     "output_type": "stream",
     "text": [
      "{\n",
      "    \"articles_score\": [\n",
      "        {\n",
      "            \"article\": \"http://www.mathnet.ru/rus/uzku1348\",\n",
      "            \"score\": 0.04003324301529935\n",
      "        }\n",
      "    ],\n",
      "    \"query\": \"в идеалами\"\n",
      "}\n"
     ]
    }
   ],
   "source": [
    "query = 'в идеалами'\n",
    "articles = search(porter_data, query)\n",
    "\n",
    "if (len(articles) > 0):\n",
    "    res = score(porter_data, 'porter', query, articles)\n",
    "    print(json.dumps(res, ensure_ascii=False, indent=4, sort_keys=True))"
   ]
  },
  {
   "cell_type": "markdown",
   "metadata": {},
   "source": [
    "#### mystem по всему документу"
   ]
  },
  {
   "cell_type": "code",
   "execution_count": 14,
   "metadata": {},
   "outputs": [
    {
     "name": "stdout",
     "output_type": "stream",
     "text": [
      "{\n",
      "    \"articles_score\": [\n",
      "        {\n",
      "            \"article\": \"http://www.mathnet.ru/rus/uzku1352\",\n",
      "            \"score\": 0.003070769564546466\n",
      "        },\n",
      "        {\n",
      "            \"article\": \"http://www.mathnet.ru/rus/uzku1353\",\n",
      "            \"score\": 0.004750096670157814\n",
      "        },\n",
      "        {\n",
      "            \"article\": \"http://www.mathnet.ru/rus/uzku1349\",\n",
      "            \"score\": 0.00349432398724253\n",
      "        },\n",
      "        {\n",
      "            \"article\": \"http://www.mathnet.ru/rus/uzku1357\",\n",
      "            \"score\": 0.00298045281264804\n",
      "        },\n",
      "        {\n",
      "            \"article\": \"http://www.mathnet.ru/rus/uzku1350\",\n",
      "            \"score\": 0.0016703636642313195\n",
      "        },\n",
      "        {\n",
      "            \"article\": \"http://www.mathnet.ru/rus/uzku1355\",\n",
      "            \"score\": 0.00434294552700143\n",
      "        },\n",
      "        {\n",
      "            \"article\": \"http://www.mathnet.ru/rus/uzku1354\",\n",
      "            \"score\": 0.001535384782273233\n",
      "        },\n",
      "        {\n",
      "            \"article\": \"http://www.mathnet.ru/rus/uzku1356\",\n",
      "            \"score\": 0.002714340954375894\n",
      "        },\n",
      "        {\n",
      "            \"article\": \"http://www.mathnet.ru/rus/uzku1358\",\n",
      "            \"score\": 0.004164468313563015\n",
      "        }\n",
      "    ],\n",
      "    \"query\": \"на задач\"\n",
      "}\n"
     ]
    }
   ],
   "source": [
    "# query = 'для два'\n",
    "query = 'на задач'\n",
    "articles = search(mystem_data, query)\n",
    "\n",
    "if (len(articles) > 0): \n",
    "    res = score(mystem_data, 'mystem', query, articles)\n",
    "    print(json.dumps(res, ensure_ascii=False, indent=4, sort_keys=True))"
   ]
  },
  {
   "cell_type": "markdown",
   "metadata": {},
   "source": [
    "### Score2"
   ]
  },
  {
   "cell_type": "code",
   "execution_count": 12,
   "metadata": {
    "collapsed": true
   },
   "outputs": [],
   "source": [
    "def score2(data_title, data_annotation, data_type, query, articles):\n",
    "    articles_score = []\n",
    "    for article in articles:\n",
    "        score = 0\n",
    "        \n",
    "        for term in list(filter(lambda t : not t.startswith('-'), query.split(' '))):\n",
    "            tf = tf_annotation(term, article, data_type)\n",
    "            score += 0.4 * tf * idf(data_annotation, term)\n",
    "            \n",
    "            tf = tf_title(term, article, data_type)\n",
    "            score += 0.6 * tf * idf(data_title, term)\n",
    "            \n",
    "        articles_score.append({\n",
    "                \"article\": article,\n",
    "                \"score\": score\n",
    "        })\n",
    "\n",
    "    res = {\n",
    "        \"query\": query,\n",
    "        \"articles_score\": articles_score\n",
    "    }\n",
    "    return res"
   ]
  },
  {
   "cell_type": "code",
   "execution_count": 13,
   "metadata": {},
   "outputs": [
    {
     "name": "stdout",
     "output_type": "stream",
     "text": [
      "{\n",
      "    \"articles_score\": [\n",
      "        {\n",
      "            \"article\": \"http://www.mathnet.ru/rus/uzku1352\",\n",
      "            \"score\": 0.001321766029956957\n",
      "        },\n",
      "        {\n",
      "            \"article\": \"http://www.mathnet.ru/rus/uzku1353\",\n",
      "            \"score\": 0.009721695174346517\n",
      "        },\n",
      "        {\n",
      "            \"article\": \"http://www.mathnet.ru/rus/uzku1349\",\n",
      "            \"score\": 0.0016000325625794743\n",
      "        },\n",
      "        {\n",
      "            \"article\": \"http://www.mathnet.ru/rus/uzku1357\",\n",
      "            \"score\": 0.0014139822646051167\n",
      "        },\n",
      "        {\n",
      "            \"article\": \"http://www.mathnet.ru/rus/uzku1350\",\n",
      "            \"score\": 0.0007414785046100004\n",
      "        },\n",
      "        {\n",
      "            \"article\": \"http://www.mathnet.ru/rus/uzku1355\",\n",
      "            \"score\": 0.008648451868425262\n",
      "        },\n",
      "        {\n",
      "            \"article\": \"http://www.mathnet.ru/rus/uzku1354\",\n",
      "            \"score\": 0.0006681454656925278\n",
      "        },\n",
      "        {\n",
      "            \"article\": \"http://www.mathnet.ru/rus/uzku1356\",\n",
      "            \"score\": 0.0011581188072003815\n",
      "        },\n",
      "        {\n",
      "            \"article\": \"http://www.mathnet.ru/rus/uzku1358\",\n",
      "            \"score\": 0.012335635660348293\n",
      "        }\n",
      "    ],\n",
      "    \"query\": \"на задач\"\n",
      "}\n"
     ]
    }
   ],
   "source": [
    "query = 'на задач'\n",
    "articles = search(mystem_data, query)\n",
    "\n",
    "if (len(articles) > 0): \n",
    "    res = score2(mystem_data_title, mystem_data_annotation, 'mystem', query, articles)\n",
    "    print(json.dumps(res, ensure_ascii=False, indent=4, sort_keys=True))"
   ]
  }
 ],
 "metadata": {
  "kernelspec": {
   "display_name": "Python 3",
   "language": "python",
   "name": "python3"
  },
  "language_info": {
   "codemirror_mode": {
    "name": "ipython",
    "version": 3
   },
   "file_extension": ".py",
   "mimetype": "text/x-python",
   "name": "python",
   "nbconvert_exporter": "python",
   "pygments_lexer": "ipython3",
   "version": "3.6.3"
  }
 },
 "nbformat": 4,
 "nbformat_minor": 2
}
