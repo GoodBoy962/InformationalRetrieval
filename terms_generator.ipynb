{
 "cells": [
  {
   "cell_type": "code",
   "execution_count": 1,
   "metadata": {},
   "outputs": [],
   "source": [
    "import json, re, codecs\n",
    "\n",
    "data = json.load(open('articles_porter_mystem.json'))"
   ]
  },
  {
   "cell_type": "code",
   "execution_count": 2,
   "metadata": {},
   "outputs": [],
   "source": [
    "articles = data['issue']['articles']"
   ]
  },
  {
   "cell_type": "code",
   "execution_count": 3,
   "metadata": {
    "collapsed": true
   },
   "outputs": [],
   "source": [
    "terms = {}"
   ]
  },
  {
   "cell_type": "code",
   "execution_count": 4,
   "metadata": {
    "collapsed": true
   },
   "outputs": [],
   "source": [
    "def set_terms(s):\n",
    "    regex = re.compile('^[А-Яа-я0-9]+')\n",
    "    annotation_terms = [re.sub('[^0-9а-яА-Я]+', '', t) for t in s.split(' ')]\n",
    "    annotation_terms = [x for x in annotation_terms if regex.match(x)]\n",
    "    \n",
    "    for term in annotation_terms:\n",
    "        if term in terms:\n",
    "            if not (article['link'] in terms[term]['docs']):\n",
    "                terms[term]['amount'] += 1\n",
    "                terms[term]['docs'].append(article['link'])\n",
    "        else:\n",
    "            terms[term] = {\n",
    "                'amount': 1,\n",
    "                'docs': [article['link']]\n",
    "            }"
   ]
  },
  {
   "cell_type": "markdown",
   "metadata": {},
   "source": [
    "MyStem"
   ]
  },
  {
   "cell_type": "code",
   "execution_count": 5,
   "metadata": {},
   "outputs": [],
   "source": [
    "for article in articles:\n",
    "    annotation = article['annotation']['mystem']\n",
    "    \n",
    "    title = article['title']['mystem']\n",
    "    \n",
    "    set_terms(annotation)\n",
    "    set_terms(title)\n",
    "    \n",
    "with open('terms_mystem.json', 'w') as f:\n",
    "    json.dump(terms, f, ensure_ascii=False, indent=4, sort_keys=True)"
   ]
  },
  {
   "cell_type": "markdown",
   "metadata": {},
   "source": [
    "Porter"
   ]
  },
  {
   "cell_type": "code",
   "execution_count": 6,
   "metadata": {
    "collapsed": true
   },
   "outputs": [],
   "source": [
    "terms = {}"
   ]
  },
  {
   "cell_type": "code",
   "execution_count": 7,
   "metadata": {
    "collapsed": true
   },
   "outputs": [],
   "source": [
    "for article in articles:\n",
    "    annotation = article['annotation']['porter']\n",
    "    \n",
    "    title = article['title']['porter']\n",
    "    \n",
    "    set_terms(annotation)\n",
    "    set_terms(title)\n",
    "    \n",
    "with open('terms_porter.json', 'w') as f:\n",
    "    json.dump(terms, f, ensure_ascii=False, indent=4, sort_keys=True)"
   ]
  }
 ],
 "metadata": {
  "kernelspec": {
   "display_name": "Python 3",
   "language": "python",
   "name": "python3"
  },
  "language_info": {
   "codemirror_mode": {
    "name": "ipython",
    "version": 3
   },
   "file_extension": ".py",
   "mimetype": "text/x-python",
   "name": "python",
   "nbconvert_exporter": "python",
   "pygments_lexer": "ipython3",
   "version": "3.6.3"
  }
 },
 "nbformat": 4,
 "nbformat_minor": 2
}
